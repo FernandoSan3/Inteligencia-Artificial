{
 "cells": [
  {
   "cell_type": "markdown",
   "metadata": {},
   "source": [
    "# Tutorial de Python con Jupyter Notebook\n",
    "\n",
    "Nombre : Fernando Sanchez\n",
    "\n",
    "### Objetivo: \n",
    "Aprender a realizar programas simples en Python utilizando cuadernos de Jupyter.\n",
    "### Conocimientos previos: \n",
    "Conocimientos de programación básica: variables, estructuras de control, funciones, matrices y clases.\n",
    "\n",
    "## Pregunta 1"
   ]
  },
  {
   "cell_type": "code",
   "execution_count": 1,
   "metadata": {},
   "outputs": [
    {
     "name": "stdout",
     "output_type": "stream",
     "text": [
      "IMAGENES\n"
     ]
    }
   ],
   "source": [
    "#Intentá imprimir el string \"IMAGENES\":\n",
    "print('IMAGENES')"
   ]
  },
  {
   "cell_type": "markdown",
   "metadata": {},
   "source": [
    "## Ejercicio 1\n",
    "Pasar a escala de grises el color codificado en los elementos de la lista `pixel`"
   ]
  },
  {
   "cell_type": "code",
   "execution_count": 2,
   "metadata": {},
   "outputs": [
    {
     "name": "stdout",
     "output_type": "stream",
     "text": [
      "La intesidad es:\n",
      "0.6499999999999999\n"
     ]
    }
   ],
   "source": [
    "from statistics import mean\n",
    "total= []\n",
    "pixel=[0.6, 0.3, 0.4]\n",
    "#promedioR = mean(pixel)\n",
    "#print('Intesidad :', promedioR)\n",
    "def calcularPromedio(valor):\n",
    "    suma = valor\n",
    "    longitud = 2\n",
    "    resultado= suma/longitud\n",
    "    total.append(resultado)   \n",
    "promedioRojo= calcularPromedio(pixel[0])\n",
    "promedioVerde= calcularPromedio(pixel[1])\n",
    "promedioAzul= calcularPromedio(pixel[2])\n",
    "#print(total)\n",
    "sumaIntesidad=0\n",
    "for c in total:\n",
    "    sumaIntesidad+=c\n",
    "    \n",
    "print ('La intesidad es:')\n",
    "print (sumaIntesidad)\n",
    "\n",
    "\n"
   ]
  },
  {
   "cell_type": "markdown",
   "metadata": {},
   "source": [
    "# Ejercicio 2\n",
    "Pasar a blanco y negro el valor de intensidad codificado en la variable intensidad"
   ]
  },
  {
   "cell_type": "code",
   "execution_count": 3,
   "metadata": {},
   "outputs": [
    {
     "name": "stdout",
     "output_type": "stream",
     "text": [
      "Negro [0.3]\n",
      "Negro [0.3, 0.15]\n",
      "Negro [0.3, 0.15, 0.2]\n"
     ]
    }
   ],
   "source": [
    "blanco = []\n",
    "negro = []\n",
    "for c in total:\n",
    "    \n",
    "    if c >= 0.5:\n",
    "        blanco.append(c)\n",
    "        print('Blanco')\n",
    "    elif c <= 0.5:\n",
    "        negro.append(c)  \n",
    "        print('Negro', negro)"
   ]
  },
  {
   "cell_type": "markdown",
   "metadata": {},
   "source": [
    "# Ejercicio 3\n",
    "Escribir un for para buscar el máximo de la lista e imprimirlo"
   ]
  },
  {
   "cell_type": "code",
   "execution_count": 4,
   "metadata": {},
   "outputs": [
    {
     "name": "stdout",
     "output_type": "stream",
     "text": [
      "Numero maximo en la lista: 53 su posicion es: 4\n"
     ]
    }
   ],
   "source": [
    "lista=[44,11,15,29,53,12,30]\n",
    "#maximo=max(lista)\n",
    "maximo=0\n",
    "for mayor in lista:\n",
    "    if mayor>maximo:\n",
    "        maximo = mayor\n",
    "        resultado=lista.index(maximo)\n",
    "print('Numero maximo en la lista:', maximo, 'su posicion es:', resultado)\n",
    "\n",
    "    "
   ]
  },
  {
   "cell_type": "markdown",
   "metadata": {},
   "source": [
    "# Ejercicio 4: \n",
    "Escribir un for para buscar el minimo elemento de la lista e imprimir su _posición_\n",
    "\n",
    "# Ejercicio 5 : \n",
    "Ordenar la lista de forma ascendente "
   ]
  },
  {
   "cell_type": "code",
   "execution_count": 5,
   "metadata": {},
   "outputs": [
    {
     "name": "stdout",
     "output_type": "stream",
     "text": [
      "Numero menor: 11 posicion en la list es: 1\n",
      "\n",
      "\n",
      "la lista de forma ascendente es: [11, 12, 15, 29, 30, 44, 53]\n"
     ]
    }
   ],
   "source": [
    "lista=[44,11,15,29,53,12,30]\n",
    "#minimo= min(lista)\n",
    "\n",
    "#print('El numero minimo es:', minimo, 'Su posicion en la lista es:',resultado )\n",
    "mini=lista[0]\n",
    "#print(mini)\n",
    "\n",
    "for mayor in lista:\n",
    "    if mayor<mini:\n",
    "        mini=mayor\n",
    "        resultado=lista.index(mini)\n",
    "        print('Numero menor:', mini, 'posicion en la list es:', resultado)\n",
    "\n",
    "print('\\n')\n",
    "\n",
    "print('la lista de forma ascendente es:',sorted(lista) )\n"
   ]
  },
  {
   "cell_type": "markdown",
   "metadata": {},
   "source": [
    "# Ejercicio 7\n",
    "\n",
    " Crear una funcion en donde me permita enviar como parametro el numero de elementos y devolver un listado de la serie fibonassi con el numero de elementos ingresado."
   ]
  },
  {
   "cell_type": "code",
   "execution_count": 6,
   "metadata": {},
   "outputs": [
    {
     "name": "stdout",
     "output_type": "stream",
     "text": [
      "Ingrese el valor de la serie fibonnaci a calcular: 6\n",
      "\n",
      " 0\n",
      "\n",
      " 1\n",
      "\n",
      " 1\n",
      "\n",
      " 2\n",
      "\n",
      " 3\n",
      "\n",
      " 5\n"
     ]
    }
   ],
   "source": [
    "def fibonnaci (valor):\n",
    "    a, b = 0,1\n",
    "    for i in range(valor):\n",
    "        print('\\n',a, end='\\n')\n",
    "        a, b = b, a + b\n",
    "numero= int(input('Ingrese el valor de la serie fibonnaci a calcular: '))\n",
    "fibonnaci(numero)\n"
   ]
  },
  {
   "cell_type": "markdown",
   "metadata": {},
   "source": [
    "# Ejercicio 8\n",
    " Escribir una función que reciba una lista y un valor, y devuelva la cantidad de veces que aparece ese valor en la lista"
   ]
  },
  {
   "cell_type": "code",
   "execution_count": 7,
   "metadata": {},
   "outputs": [
    {
     "name": "stdout",
     "output_type": "stream",
     "text": [
      "La cantidad de ocurrencias del valor es: 3\n"
     ]
    }
   ],
   "source": [
    "#Ejercicio 8\n",
    "# Escribir una función que reciba una lista y un valor, \n",
    "#y devuelva la cantidad de veces que aparece ese valor en la lista\n",
    "\n",
    "def ocurrencias(lista,valor):\n",
    "    cont=0\n",
    "    for numero in lista:\n",
    "        if numero == valor:\n",
    "            cont= cont+1\n",
    "    print('La cantidad de ocurrencias del valor es:',cont)\n",
    "l=[1,4,2,3,5,1,4,2,3,6,1,7,1,3,5,1,1,5,3,2]\n",
    "v=2\n",
    "ocurrencias(l,v)\n",
    "\n",
    "\n"
   ]
  },
  {
   "cell_type": "markdown",
   "metadata": {},
   "source": [
    "# Ejercicio 9\n",
    "Generar un CRUD (Crear, Leer, Actualizar y Eliminar) de una agenda de telefono."
   ]
  },
  {
   "cell_type": "code",
   "execution_count": 9,
   "metadata": {},
   "outputs": [],
   "source": [
    "# Generar un CRUD (Crear, Leer, Actualizar y Eliminar) de una agenda de telefono.\n",
    "\n",
    "diccionario = {'0102101010': ['Pepito', 'Perez', '0999999999', 'pepito@hotmail.com']}\n",
    "\n",
    "class agendaTelefono(object):\n",
    "    def __init__(self, nombre, apellido, celular, correo, cedula):\n",
    "        self.nombre = nombre\n",
    "        self.apellido = apellido\n",
    "        self.celular = celular\n",
    "        self.correo = correo\n",
    "        self.cedula = cedula\n",
    "    \n",
    "    def crear(self):\n",
    "        diccionario.update({str(self.cedula):[str(self.nombre),str(self.apellido),str(self.celular),str(self.correo)]})\n",
    "        \n",
    "    def actualizar(self):\n",
    "        diccionario.update({str(self.cedula):[str(self.nombre),str(self.apellido),str(self.celular),str(self.correo)]})\n",
    "        \n",
    "    def leer(self):\n",
    "        valor = int(len(diccionario[str(self.cedula)][0:4]))\n",
    "        if valor > 3:\n",
    "            return str(self.nombre) + \" \" + str(self.apellido)+ \" \" + str(self.celular)+ \" \" + str(self.correo)\n",
    "        else: \n",
    "            return str('No existe usuario')\n",
    "    def eliminar(self):\n",
    "        valor = int(len(diccionario[str(self.cedula)][0:4]))\n",
    "        if valor > 3:\n",
    "            del diccionario[str(self.cedula)]\n",
    "            print('Usuario  eliminado')\n",
    "        else:\n",
    "            print('No existe usuario')\n",
    "    "
   ]
  },
  {
   "cell_type": "code",
   "execution_count": 10,
   "metadata": {},
   "outputs": [
    {
     "name": "stdout",
     "output_type": "stream",
     "text": [
      "Usuario  eliminado\n"
     ]
    }
   ],
   "source": [
    "#Primera Persona ingresada\n",
    "persona1 = agendaTelefono(\"Fernando\", \"Sanchez\",\"0996214346\",\"fernando_0257@hotmail.com\",\"0107181562\")\n",
    "#Segunda Persona ingresada\n",
    "persona2 = agendaTelefono(\"Mateo\", \"Abad\",\"072900295\",\"mateo@hotmail.com\",\"010193005\")\n",
    "#Crear Persona\n",
    "persona1.crear()\n",
    "persona2.crear()\n",
    "#Leer Persona\n",
    "persona1.leer()\n",
    "persona2.leer()\n",
    "#Actualizar Persona\n",
    "persona1 = agendaTelefono(\"Luis\", \"Sanchez\",\"0996214346\",\"fernando_0257@hotmail.com\",\"0107181562\")\n",
    "persona1.actualizar()\n",
    "\n",
    "#Eliminar Persona\n",
    "persona2.eliminar()"
   ]
  }
 ],
 "metadata": {
  "kernelspec": {
   "display_name": "Python 3",
   "language": "python",
   "name": "python3"
  },
  "language_info": {
   "codemirror_mode": {
    "name": "ipython",
    "version": 3
   },
   "file_extension": ".py",
   "mimetype": "text/x-python",
   "name": "python",
   "nbconvert_exporter": "python",
   "pygments_lexer": "ipython3",
   "version": "3.8.3"
  }
 },
 "nbformat": 4,
 "nbformat_minor": 2
}
